{
 "cells": [
  {
   "cell_type": "code",
   "id": "initial_id",
   "metadata": {
    "collapsed": true,
    "ExecuteTime": {
     "end_time": "2024-09-26T19:39:04.365596Z",
     "start_time": "2024-09-26T19:39:02.911864Z"
    }
   },
   "source": "import pandas as pd",
   "outputs": [],
   "execution_count": 1
  },
  {
   "metadata": {
    "ExecuteTime": {
     "end_time": "2024-09-26T19:47:50.469018Z",
     "start_time": "2024-09-26T19:47:50.437106Z"
    }
   },
   "cell_type": "code",
   "source": "list =[pd.read_json(\"./data/song_data/A/A/A/TRAAABD128F429CF47.json\",typ='series',convert_dates=False)]",
   "id": "3dcba167c502be54",
   "outputs": [],
   "execution_count": 4
  },
  {
   "metadata": {
    "ExecuteTime": {
     "end_time": "2024-09-26T19:47:58.618879Z",
     "start_time": "2024-09-26T19:47:58.591998Z"
    }
   },
   "cell_type": "code",
   "source": "print(list)",
   "id": "ef990f6977aa4546",
   "outputs": [
    {
     "name": "stdout",
     "output_type": "stream",
     "text": [
      "[num_songs                            1\n",
      "artist_id           ARMJAGH1187FB546F3\n",
      "artist_latitude               35.14968\n",
      "artist_longitude             -90.04892\n",
      "artist_location            Memphis, TN\n",
      "artist_name               The Box Tops\n",
      "song_id             SOCIWDW12A8C13D406\n",
      "title                        Soul Deep\n",
      "duration                     148.03546\n",
      "year                              1969\n",
      "dtype: object]\n"
     ]
    }
   ],
   "execution_count": 5
  },
  {
   "metadata": {
    "ExecuteTime": {
     "end_time": "2024-09-26T19:50:33.699172Z",
     "start_time": "2024-09-26T19:50:33.684865Z"
    }
   },
   "cell_type": "code",
   "source": "df = pd.DataFrame(list)",
   "id": "75965a01f7c25a07",
   "outputs": [],
   "execution_count": 9
  },
  {
   "metadata": {
    "ExecuteTime": {
     "end_time": "2024-09-26T19:50:36.076752Z",
     "start_time": "2024-09-26T19:50:36.054411Z"
    }
   },
   "cell_type": "code",
   "source": "print(df.values)",
   "id": "ce3a122dca6cbdca",
   "outputs": [
    {
     "name": "stdout",
     "output_type": "stream",
     "text": [
      "[[1 'ARMJAGH1187FB546F3' 35.14968 -90.04892 'Memphis, TN' 'The Box Tops'\n",
      "  'SOCIWDW12A8C13D406' 'Soul Deep' 148.03546 1969]]\n"
     ]
    }
   ],
   "execution_count": 10
  },
  {
   "metadata": {
    "ExecuteTime": {
     "end_time": "2024-09-27T01:59:05.185360Z",
     "start_time": "2024-09-27T01:59:05.057867Z"
    }
   },
   "cell_type": "code",
   "source": [
    "import os\n",
    "import glob"
   ],
   "id": "59a86e8911647ad9",
   "outputs": [],
   "execution_count": 11
  },
  {
   "metadata": {
    "ExecuteTime": {
     "end_time": "2024-09-27T02:04:29.217755Z",
     "start_time": "2024-09-27T02:04:29.200190Z"
    }
   },
   "cell_type": "code",
   "source": "print(os.path.abspath(\"/main.py\"))",
   "id": "76676cf032e089b4",
   "outputs": [
    {
     "name": "stdout",
     "output_type": "stream",
     "text": [
      "C:\\main.py\n"
     ]
    }
   ],
   "execution_count": 21
  }
 ],
 "metadata": {
  "kernelspec": {
   "display_name": "Python 3",
   "language": "python",
   "name": "python3"
  },
  "language_info": {
   "codemirror_mode": {
    "name": "ipython",
    "version": 2
   },
   "file_extension": ".py",
   "mimetype": "text/x-python",
   "name": "python",
   "nbconvert_exporter": "python",
   "pygments_lexer": "ipython2",
   "version": "2.7.6"
  }
 },
 "nbformat": 4,
 "nbformat_minor": 5
}
